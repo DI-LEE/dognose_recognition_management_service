{
 "cells": [
  {
   "cell_type": "code",
   "execution_count": 1,
   "metadata": {},
   "outputs": [],
   "source": [
    "import cv2\n",
    "import matplotlib.pyplot as plt\n",
    "import numpy as np\n",
    "from tqdm import tqdm\n",
    "import glob, os"
   ]
  },
  {
   "cell_type": "code",
   "execution_count": 2,
   "metadata": {},
   "outputs": [],
   "source": [
    "#문자열을 int 로 암호화\n",
    "import hashlib\n",
    "def get_hash_value(in_str, in_digest_bytes_size=64, in_return_type='digest'):\n",
    "    \"\"\"해시값을 구한다 \n",
    "    Parameter: in_str: 해싱할문자열, in_digest_bytes_size: Digest바이트크기, \n",
    "               in_return_type: 반환형태(digest or hexdigest or number) \"\"\"\n",
    "    assert 1 <= in_digest_bytes_size and in_digest_bytes_size <= 64\n",
    "    blake  = hashlib.blake2b(in_str.encode('utf-8'), digest_size=in_digest_bytes_size)\n",
    "    if in_return_type == 'hexdigest': return blake.hexdigest()\n",
    "    elif in_return_type == 'number': return int(blake.hexdigest(), base=16)\n",
    "    return blake.digest()"
   ]
  },
  {
   "cell_type": "code",
   "execution_count": 3,
   "metadata": {},
   "outputs": [],
   "source": [
    "def extract_label(img_path):\n",
    "    filename, _ = os.path.splitext(os.path.basename(img_path))\n",
    "    id = get_hash_value(in_str=filename, in_digest_bytes_size=5, in_return_type='number')\n",
    "    \n",
    "    return np.array([id], dtype=np.uint64)\n",
    "#     subject_id, etc = filename.split('__')\n",
    "#     gender, lr, finger, _ = etc.split('_')\n",
    "    \n",
    "#     gender = 0 if gender == 'M' else 1\n",
    "#     lr = 0 if lr =='Left' else 1\n",
    "    \n",
    "#     if finger == 'thumb':\n",
    "#         finger = 0\n",
    "#     elif finger == 'index':\n",
    "#         finger = 1\n",
    "#     elif finger == 'middle':\n",
    "#         finger = 2\n",
    "#     elif finger == 'ring':\n",
    "#         finger = 3\n",
    "#     elif finger == 'little':\n",
    "#         finger = 4\n",
    "        \n",
    "#     return np.array([subject_id, gender, lr, finger], dtype=np.uint16)\n",
    "\n",
    "def extract_label2(img_path):\n",
    "    filename, _ = os.path.splitext(os.path.basename(img_path))\n",
    "    \n",
    "    subject_id, etc = filename.split('__')\n",
    "    gender, lr, finger, _, _ = etc.split('_')\n",
    "    \n",
    "    gender = 0 if gender == 'M' else 1\n",
    "    lr = 0 if lr =='Left' else 1\n",
    "    \n",
    "    if finger == 'thumb':\n",
    "        finger = 0\n",
    "    elif finger == 'index':\n",
    "        finger = 1\n",
    "    elif finger == 'middle':\n",
    "        finger = 2\n",
    "    elif finger == 'ring':\n",
    "        finger = 3\n",
    "    elif finger == 'little':\n",
    "        finger = 4\n",
    "        \n",
    "    return np.array([subject_id, gender, lr, finger], dtype=np.uint16)"
   ]
  },
  {
   "cell_type": "code",
   "execution_count": 8,
   "metadata": {
    "scrolled": true
   },
   "outputs": [
    {
     "name": "stdout",
     "output_type": "stream",
     "text": [
      "이미지개수: 9640\n"
     ]
    },
    {
     "name": "stderr",
     "output_type": "stream",
     "text": [
      "9640it [00:18, 515.39it/s]\n"
     ]
    },
    {
     "data": {
      "text/plain": [
       "<matplotlib.image.AxesImage at 0x23f55b87a60>"
      ]
     },
     "execution_count": 8,
     "metadata": {},
     "output_type": "execute_result"
    },
    {
     "data": {
      "image/png": "[encoded data removed]",
      "text/plain": [
       "<Figure size 72x72 with 1 Axes>"
      ]
     },
     "metadata": {
      "needs_background": "light"
     },
     "output_type": "display_data"
    }
   ],
   "source": [
    "img_list = sorted(glob.glob('C:/Users/DI Lee/Desktop/capstone/noseprint/sobel_all/*.jpg'))\n",
    "print(\"이미지개수:\", len(img_list))\n",
    "\n",
    "imgs = np.empty((len(img_list), 96, 96), dtype=np.uint8)\n",
    "labels = np.empty((len(img_list), 4), dtype=np.uint16)\n",
    "\n",
    "for i, img_path in tqdm(enumerate(img_list)):\n",
    "    img = cv2.imread(img_path, cv2.IMREAD_GRAYSCALE)\n",
    "#     img = cv2.Sobel(img, cv2.CV_8U, 1, 0, 3)\n",
    "    img = cv2.resize(img, (96, 96))\n",
    "    imgs[i] = img\n",
    "    \n",
    "    # subject_id, gender, lr, finger\n",
    "    labels[i] = extract_label(img_path)\n",
    "    \n",
    "np.save('C:/Users/DI Lee/Desktop/capstone_github/dognose_recognition_management_service/dognose_recognition/dataset/npy/noseprint_sobel_all.npy', imgs)\n",
    "np.save('C:/Users/DI Lee/Desktop/capstone_github/dognose_recognition_management_service/dognose_recognition/dataset/npy/noseprint_label_sobel_all.npy', labels)\n",
    "\n",
    "plt.figure(figsize=(1, 1))\n",
    "plt.title(labels[-1])\n",
    "plt.imshow(imgs[-1], cmap='gray')"
   ]
  },
  {
   "cell_type": "code",
   "execution_count": null,
   "metadata": {},
   "outputs": [],
   "source": []
  }
 ],
 "metadata": {
  "kernelspec": {
   "display_name": "image-captioning",
   "language": "python",
   "name": "image-captioning"
  },
  "language_info": {
   "codemirror_mode": {
    "name": "ipython",
    "version": 3
   },
   "file_extension": ".py",
   "mimetype": "text/x-python",
   "name": "python",
   "nbconvert_exporter": "python",
   "pygments_lexer": "ipython3",
   "version": "3.9.12"
  }
 },
 "nbformat": 4,
 "nbformat_minor": 2
}
